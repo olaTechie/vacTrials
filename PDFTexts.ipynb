{
 "cells": [
  {
   "cell_type": "code",
   "execution_count": 7,
   "id": "50ec4e80-83cd-4eed-bee3-40e85b5875b3",
   "metadata": {},
   "outputs": [],
   "source": [
    "import os\n",
    "import pandas as pd\n",
    "from PyPDF2 import PdfReader\n",
    "from docx import Document\n",
    "import json\n",
    "import re"
   ]
  },
  {
   "cell_type": "code",
   "execution_count": 8,
   "id": "d1fc4553-1788-418c-ba89-5a5980764ca7",
   "metadata": {},
   "outputs": [],
   "source": [
    "def extract_text_from_pdf(file_path):\n",
    "    with open(file_path, 'rb') as pdf_file:\n",
    "        pdf_reader = PdfReader(pdf_file)\n",
    "        text = \"\"\n",
    "        for page in pdf_reader.pages:\n",
    "            text += page.extract_text()\n",
    "    return text\n",
    "\n",
    "def extract_texts_from_directory(directory_path):\n",
    "    data = []\n",
    "\n",
    "    for file_name in os.listdir(directory_path):\n",
    "        if file_name.endswith(\".pdf\"):\n",
    "            file_path = os.path.join(directory_path, file_name)\n",
    "            text = extract_text_from_pdf(file_path)\n",
    "            \n",
    "            # Remove '.pdf' extension from file_name\n",
    "            file_name_without_extension = os.path.splitext(file_name)[0]\n",
    "            \n",
    "            data.append({'File Name': file_name_without_extension, 'Text': text})\n",
    "\n",
    "    df = pd.DataFrame(data)\n",
    "\n",
    "    return df\n",
    "\n",
    "def save_to_csv(df, output_path):\n",
    "    df.to_csv(output_path, sep='\\t', index=False)\n",
    "\n",
    "def save_to_json(data, output_path):\n",
    "    with open(output_path, 'w') as json_file:\n",
    "        json.dump(data, json_file, indent=4)\n",
    "\n",
    "def clean_text(text):\n",
    "    # Replace non-ASCII and control characters with a space\n",
    "    return re.sub(r'[^\\x20-\\x7E]', ' ', text)\n",
    "\n",
    "def save_to_word(df, output_path):\n",
    "    doc = Document()\n",
    "    table = doc.add_table(rows=1, cols=2)\n",
    "\n",
    "    # Add headers\n",
    "    for i, column_name in enumerate(df.columns):\n",
    "        table.cell(0, i).text = clean_text(column_name)\n",
    "\n",
    "    # Add data\n",
    "    for index, row in df.iterrows():\n",
    "        cells = table.add_row().cells\n",
    "        cells[0].text = clean_text(str(row['File Name']))\n",
    "        cells[1].text = clean_text(str(row['Text']))\n",
    "\n",
    "    doc.save(output_path)\n"
   ]
  },
  {
   "cell_type": "code",
   "execution_count": 9,
   "id": "a360512a-2b00-4f31-9fa6-30a0492ee175",
   "metadata": {},
   "outputs": [],
   "source": [
    "# Example usage\n",
    "directory_path = './PDFs'\n",
    "output_tsv_path = 'vacTrials.tsv'\n",
    "output_json_path = 'vacTrials.json'\n",
    "output_word_path = 'vacTrials.docx'\n",
    "\n"
   ]
  },
  {
   "cell_type": "code",
   "execution_count": 10,
   "id": "3bf1a44f-094e-41cb-acdc-e35e727eb76b",
   "metadata": {},
   "outputs": [],
   "source": [
    "df = extract_texts_from_directory(directory_path)\n"
   ]
  },
  {
   "cell_type": "code",
   "execution_count": 11,
   "id": "fef00e30-c7fb-48eb-a56e-dcb896f53f01",
   "metadata": {},
   "outputs": [
    {
     "name": "stdout",
     "output_type": "stream",
     "text": [
      "Data exported successfully to vacTrials.tsv\n",
      "Data exported successfully to vacTrials.json\n",
      "Data exported successfully to vacTrials.docx\n"
     ]
    }
   ],
   "source": [
    "# Save to TSV\n",
    "save_to_csv(df, output_tsv_path)\n",
    "\n",
    "# Convert DataFrame to list of dictionaries and save to JSON\n",
    "data_list = df.to_dict('records')\n",
    "save_to_json(data_list, output_json_path)\n",
    "\n",
    "# Save to Word\n",
    "save_to_word(df, output_word_path)\n",
    "\n",
    "\n",
    "print(\"Data exported successfully to\", output_tsv_path)\n",
    "print(\"Data exported successfully to\", output_json_path)\n",
    "print(\"Data exported successfully to\", output_word_path)"
   ]
  },
  {
   "cell_type": "code",
   "execution_count": null,
   "id": "b8018070-d540-4dec-ba9e-19311acfe1e9",
   "metadata": {},
   "outputs": [],
   "source": [
    "\n"
   ]
  },
  {
   "cell_type": "code",
   "execution_count": null,
   "id": "6fe6a7c5-4c3e-4a59-abb5-fee6356fdca3",
   "metadata": {},
   "outputs": [],
   "source": []
  }
 ],
 "metadata": {
  "kernelspec": {
   "display_name": "Python 3 (ipykernel)",
   "language": "python",
   "name": "python3"
  },
  "language_info": {
   "codemirror_mode": {
    "name": "ipython",
    "version": 3
   },
   "file_extension": ".py",
   "mimetype": "text/x-python",
   "name": "python",
   "nbconvert_exporter": "python",
   "pygments_lexer": "ipython3",
   "version": "3.9.15"
  }
 },
 "nbformat": 4,
 "nbformat_minor": 5
}
